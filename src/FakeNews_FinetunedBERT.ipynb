{
  "nbformat": 4,
  "nbformat_minor": 0,
  "metadata": {
    "kernelspec": {
      "display_name": "Python 3",
      "language": "python",
      "name": "python3"
    },
    "language_info": {
      "codemirror_mode": {
        "name": "ipython",
        "version": 3
      },
      "file_extension": ".py",
      "mimetype": "text/x-python",
      "name": "python",
      "nbconvert_exporter": "python",
      "pygments_lexer": "ipython3",
      "version": "3.7.7"
    },
    "colab": {
      "name": "BERT_fake_news_birdirectional1.ipynb",
      "provenance": [],
      "collapsed_sections": [],
      "toc_visible": true
    },
    "accelerator": "TPU"
  },
  "cells": [
    {
      "cell_type": "code",
      "metadata": {
        "colab": {
          "base_uri": "https://localhost:8080/"
        },
        "id": "hZnfb4DTpdYg",
        "outputId": "966fd468-8ac8-4cb6-ec4a-9fb8dba2fb1f"
      },
      "source": [
        "import numpy as np\n",
        "import pandas as pd\n",
        "import tensorflow as tf\n",
        "from tensorflow.keras.layers import Dense, Input, LSTM\n",
        "from tensorflow.keras.optimizers import Adam\n",
        "from tensorflow.keras.models import Model\n",
        "from tensorflow.keras.callbacks import ModelCheckpoint\n",
        "import tensorflow_hub as hub\n",
        "from sklearn import model_selection\n",
        "from sklearn import metrics\n",
        "!pip install bert-for-tf2\n",
        "import bert\n",
        "from bert import bert_tokenization\n",
        "import os"
      ],
      "execution_count": 1,
      "outputs": [
        {
          "output_type": "stream",
          "text": [
            "Requirement already satisfied: bert-for-tf2 in /usr/local/lib/python3.6/dist-packages (0.14.7)\n",
            "Requirement already satisfied: params-flow>=0.8.0 in /usr/local/lib/python3.6/dist-packages (from bert-for-tf2) (0.8.2)\n",
            "Requirement already satisfied: py-params>=0.9.6 in /usr/local/lib/python3.6/dist-packages (from bert-for-tf2) (0.9.7)\n",
            "Requirement already satisfied: numpy in /usr/local/lib/python3.6/dist-packages (from params-flow>=0.8.0->bert-for-tf2) (1.18.5)\n",
            "Requirement already satisfied: tqdm in /usr/local/lib/python3.6/dist-packages (from params-flow>=0.8.0->bert-for-tf2) (4.41.1)\n"
          ],
          "name": "stdout"
        }
      ]
    },
    {
      "cell_type": "markdown",
      "metadata": {
        "id": "1IwW8po8pdYg"
      },
      "source": [
        "### BERT ENCODE FUNCTON:\n",
        "    Splits the text into tokens and converts tokens into Ids. This function returns three arrays: tokens, masks and segments"
      ]
    },
    {
      "cell_type": "code",
      "metadata": {
        "id": "_cOS4BQKpdYg"
      },
      "source": [
        "def bert_encode(texts, tokenizer, max_len=160):\n",
        "    all_tokens = []\n",
        "    all_masks = []\n",
        "    all_segments = []\n",
        "    \n",
        "    for text in texts:\n",
        "        text = tokenizer.tokenize(text)\n",
        "            \n",
        "        text = text[:max_len-2]\n",
        "        input_sequence = [\"[CLS]\"] + text + [\"[SEP]\"]\n",
        "        pad_len = max_len - len(input_sequence)\n",
        "        \n",
        "        tokens = tokenizer.convert_tokens_to_ids(input_sequence)\n",
        "        tokens += [0] * pad_len\n",
        "        pad_masks = [1] * len(input_sequence) + [0] * pad_len\n",
        "        segment_ids = [0] * max_len\n",
        "        \n",
        "        all_tokens.append(tokens)\n",
        "        all_masks.append(pad_masks)\n",
        "        all_segments.append(segment_ids)\n",
        "    \n",
        "    return np.array(all_tokens), np.array(all_masks), np.array(all_segments)"
      ],
      "execution_count": 2,
      "outputs": []
    },
    {
      "cell_type": "markdown",
      "metadata": {
        "id": "qJirnQlCpdYg"
      },
      "source": [
        "## Build Function:\n",
        "    This function creates 3 layers for BERT model and the model is compiled with Adam optimizer and binary crossentropy as  the loss function."
      ]
    },
    {
      "cell_type": "code",
      "metadata": {
        "id": "IdJbvbpkpdYg"
      },
      "source": [
        "def build_model_LSTM(bert_layer, max_len=160):\n",
        "    embedding_size=768\n",
        "    input_word_ids = Input(shape=(max_len,), dtype=tf.int32, name=\"input_word_ids\")\n",
        "    input_mask = Input(shape=(max_len,), dtype=tf.int32, name=\"input_mask\")\n",
        "    segment_ids = Input(shape=(max_len,), dtype=tf.int32, name=\"segment_ids\")\n",
        "\n",
        "    _, sequence_output = bert_layer([input_word_ids, input_mask, segment_ids])\n",
        "    clf_output = sequence_output[:, 0, :]\n",
        "    bert_output_ = tf.keras.layers.Reshape((max_len, embedding_size))(sequence_output)\n",
        "    LSTM_out= tf.keras.layers.Bidirectional(tf.keras.layers.LSTM(64, return_sequences=True))(bert_output_)\n",
        "\n",
        "    dense = tf.keras.layers.Dense(256, activation=\"relu\")(LSTM_out)\n",
        "    pred = tf.keras.layers.Dense(1, activation=\"sigmoid\")(dense)\n",
        "    \n",
        "    model = Model(inputs=[input_word_ids, input_mask, segment_ids], outputs=pred)\n",
        "    model.compile(Adam(lr=2e-5), loss='binary_crossentropy', metrics=['accuracy'])\n",
        "    \n",
        "    return model"
      ],
      "execution_count": 3,
      "outputs": []
    },
    {
      "cell_type": "code",
      "metadata": {
        "id": "N_xs_Gsxf7v-"
      },
      "source": [
        "def build_model_GRU(bert_layer, max_len=160):\n",
        "    embedding_size=768\n",
        "    input_word_ids = Input(shape=(max_len,), dtype=tf.int32, name=\"input_word_ids\")\n",
        "    input_mask = Input(shape=(max_len,), dtype=tf.int32, name=\"input_mask\")\n",
        "    segment_ids = Input(shape=(max_len,), dtype=tf.int32, name=\"segment_ids\")\n",
        "\n",
        "    _, sequence_output = bert_layer([input_word_ids, input_mask, segment_ids])\n",
        "    clf_output = sequence_output[:, 0, :]\n",
        "    bert_output_ = tf.keras.layers.Reshape((max_len, embedding_size))(sequence_output)\n",
        "    GRU_out= tf.keras.layers.Bidirectional(tf.keras.layers.GRU(64, return_sequences=True))(bert_output_)\n",
        "\n",
        "    dense = tf.keras.layers.Dense(256, activation=\"relu\")(GRU_out)\n",
        "    pred = tf.keras.layers.Dense(1, activation=\"sigmoid\")(dense)\n",
        "    \n",
        "    model = Model(inputs=[input_word_ids, input_mask, segment_ids], outputs=pred)\n",
        "    model.compile(Adam(lr=2e-5), loss='binary_crossentropy', metrics=['accuracy'])\n",
        "    \n",
        "    return model"
      ],
      "execution_count": 4,
      "outputs": []
    },
    {
      "cell_type": "markdown",
      "metadata": {
        "id": "MDD62TMFpdYg"
      },
      "source": [
        "### Load BERT layer"
      ]
    },
    {
      "cell_type": "code",
      "metadata": {
        "colab": {
          "base_uri": "https://localhost:8080/"
        },
        "id": "kFlBCmjopdYg",
        "outputId": "5914264b-8ae6-4f63-aea1-1381c5acd168"
      },
      "source": [
        "%%time\n",
        "#module_url = \"https://tfhub.dev/tensorflow/bert_en_uncased_L-24_H-1024_A-16/1\"\n",
        "module_url =\"https://tfhub.dev/tensorflow/bert_multi_cased_L-12_H-768_A-12/1\"\n",
        "bert_layer = hub.KerasLayer(module_url, trainable=True)"
      ],
      "execution_count": 5,
      "outputs": [
        {
          "output_type": "stream",
          "text": [
            "CPU times: user 25.2 s, sys: 6.77 s, total: 32 s\n",
            "Wall time: 1min 2s\n"
          ],
          "name": "stdout"
        }
      ]
    },
    {
      "cell_type": "markdown",
      "metadata": {
        "id": "PM9sGIRZpdYg"
      },
      "source": [
        "### Load dataset and split the dataset into training and test sets"
      ]
    },
    {
      "cell_type": "code",
      "metadata": {
        "id": "TPAKxhIIpdYg"
      },
      "source": [
        "dataset=pd.read_csv(\"politifact_content.csv\",encoding='latin1')"
      ],
      "execution_count": 6,
      "outputs": []
    },
    {
      "cell_type": "code",
      "metadata": {
        "id": "5RxP2IjUpdYg"
      },
      "source": [
        "train,test=model_selection.train_test_split(dataset,test_size=0.20)"
      ],
      "execution_count": 7,
      "outputs": []
    },
    {
      "cell_type": "markdown",
      "metadata": {
        "id": "BZYzYU8cpdYg"
      },
      "source": [
        "### Encode the data using helper functions(bert_encode())"
      ]
    },
    {
      "cell_type": "code",
      "metadata": {
        "id": "qc_DGAp7pdYg"
      },
      "source": [
        "\n",
        "FullTokenizer = bert.bert_tokenization.FullTokenizer\n",
        "vocab_file = bert_layer.resolved_object.vocab_file.asset_path.numpy()\n",
        "do_lower_case = bert_layer.resolved_object.do_lower_case.numpy()\n",
        "tokenizer = FullTokenizer(vocab_file, do_lower_case)"
      ],
      "execution_count": 8,
      "outputs": []
    },
    {
      "cell_type": "markdown",
      "metadata": {
        "id": "yz2xdSRhpdYg"
      },
      "source": [
        "To reduce the training size, first 500 samples are used and test dataset size remains same"
      ]
    },
    {
      "cell_type": "code",
      "metadata": {
        "id": "lmluyCXtpdYg"
      },
      "source": [
        "train_input = bert_encode(train['content'][0:500], tokenizer, max_len = 160)\n",
        "test_input = bert_encode(test['content'], tokenizer, max_len = 160)\n",
        "train_labels = train['label'][0:500]\n",
        "test_labels = test['label']"
      ],
      "execution_count": 9,
      "outputs": []
    },
    {
      "cell_type": "markdown",
      "metadata": {
        "id": "QP-p7JMcpdYg"
      },
      "source": [
        "### Building the model and training the model"
      ]
    },
    {
      "cell_type": "code",
      "metadata": {
        "colab": {
          "base_uri": "https://localhost:8080/"
        },
        "id": "ZHPTjGyOpdYg",
        "outputId": "8a4a38be-7c10-4c89-c47a-1ae996ddddb7"
      },
      "source": [
        "model1 = build_model_LSTM(bert_layer, max_len = 160)\n",
        "model1.summary()"
      ],
      "execution_count": 10,
      "outputs": [
        {
          "output_type": "stream",
          "text": [
            "Model: \"functional_1\"\n",
            "__________________________________________________________________________________________________\n",
            "Layer (type)                    Output Shape         Param #     Connected to                     \n",
            "==================================================================================================\n",
            "input_word_ids (InputLayer)     [(None, 160)]        0                                            \n",
            "__________________________________________________________________________________________________\n",
            "input_mask (InputLayer)         [(None, 160)]        0                                            \n",
            "__________________________________________________________________________________________________\n",
            "segment_ids (InputLayer)        [(None, 160)]        0                                            \n",
            "__________________________________________________________________________________________________\n",
            "keras_layer (KerasLayer)        [(None, 768), (None, 177853441   input_word_ids[0][0]             \n",
            "                                                                 input_mask[0][0]                 \n",
            "                                                                 segment_ids[0][0]                \n",
            "__________________________________________________________________________________________________\n",
            "reshape (Reshape)               (None, 160, 768)     0           keras_layer[0][1]                \n",
            "__________________________________________________________________________________________________\n",
            "bidirectional (Bidirectional)   (None, 160, 128)     426496      reshape[0][0]                    \n",
            "__________________________________________________________________________________________________\n",
            "dense (Dense)                   (None, 160, 256)     33024       bidirectional[0][0]              \n",
            "__________________________________________________________________________________________________\n",
            "dense_1 (Dense)                 (None, 160, 1)       257         dense[0][0]                      \n",
            "==================================================================================================\n",
            "Total params: 178,313,218\n",
            "Trainable params: 178,313,217\n",
            "Non-trainable params: 1\n",
            "__________________________________________________________________________________________________\n"
          ],
          "name": "stdout"
        }
      ]
    },
    {
      "cell_type": "code",
      "metadata": {
        "colab": {
          "base_uri": "https://localhost:8080/"
        },
        "id": "un257X4QgJXm",
        "outputId": "16c8f939-5dd9-4dc2-d4e2-8cf03c8e3e69"
      },
      "source": [
        "model2 = build_model_GRU(bert_layer, max_len = 160)\n",
        "model2.summary()"
      ],
      "execution_count": 11,
      "outputs": [
        {
          "output_type": "stream",
          "text": [
            "Model: \"functional_3\"\n",
            "__________________________________________________________________________________________________\n",
            "Layer (type)                    Output Shape         Param #     Connected to                     \n",
            "==================================================================================================\n",
            "input_word_ids (InputLayer)     [(None, 160)]        0                                            \n",
            "__________________________________________________________________________________________________\n",
            "input_mask (InputLayer)         [(None, 160)]        0                                            \n",
            "__________________________________________________________________________________________________\n",
            "segment_ids (InputLayer)        [(None, 160)]        0                                            \n",
            "__________________________________________________________________________________________________\n",
            "keras_layer (KerasLayer)        [(None, 768), (None, 177853441   input_word_ids[0][0]             \n",
            "                                                                 input_mask[0][0]                 \n",
            "                                                                 segment_ids[0][0]                \n",
            "__________________________________________________________________________________________________\n",
            "reshape_1 (Reshape)             (None, 160, 768)     0           keras_layer[1][1]                \n",
            "__________________________________________________________________________________________________\n",
            "bidirectional_1 (Bidirectional) (None, 160, 128)     320256      reshape_1[0][0]                  \n",
            "__________________________________________________________________________________________________\n",
            "dense_2 (Dense)                 (None, 160, 256)     33024       bidirectional_1[0][0]            \n",
            "__________________________________________________________________________________________________\n",
            "dense_3 (Dense)                 (None, 160, 1)       257         dense_2[0][0]                    \n",
            "==================================================================================================\n",
            "Total params: 178,206,978\n",
            "Trainable params: 178,206,977\n",
            "Non-trainable params: 1\n",
            "__________________________________________________________________________________________________\n"
          ],
          "name": "stdout"
        }
      ]
    },
    {
      "cell_type": "code",
      "metadata": {
        "colab": {
          "base_uri": "https://localhost:8080/"
        },
        "id": "7bh78Z6EpdYh",
        "outputId": "df79ab37-8dac-46e9-a8bf-a321b3fd34b4"
      },
      "source": [
        "history1 = model1.fit(\n",
        "    train_input, train_labels,\n",
        "    validation_split=0.1,\n",
        "    epochs=5,\n",
        "    batch_size=20\n",
        ")"
      ],
      "execution_count": 12,
      "outputs": [
        {
          "output_type": "stream",
          "text": [
            "Epoch 1/5\n",
            "15/15 [==============================] - 533s 36s/step - loss: 0.5939 - accuracy: 0.6826 - val_loss: 0.6420 - val_accuracy: 0.6004\n",
            "Epoch 2/5\n",
            "15/15 [==============================] - 518s 35s/step - loss: 0.4174 - accuracy: 0.8408 - val_loss: 0.4559 - val_accuracy: 0.7632\n",
            "Epoch 3/5\n",
            "15/15 [==============================] - 519s 35s/step - loss: 0.2486 - accuracy: 0.9292 - val_loss: 0.4580 - val_accuracy: 0.7697\n",
            "Epoch 4/5\n",
            "15/15 [==============================] - 519s 35s/step - loss: 0.1663 - accuracy: 0.9591 - val_loss: 0.4540 - val_accuracy: 0.7765\n",
            "Epoch 5/5\n",
            "15/15 [==============================] - 519s 35s/step - loss: 0.0887 - accuracy: 0.9772 - val_loss: 0.5025 - val_accuracy: 0.7706\n"
          ],
          "name": "stdout"
        }
      ]
    },
    {
      "cell_type": "code",
      "metadata": {
        "colab": {
          "base_uri": "https://localhost:8080/"
        },
        "id": "adOxqAKZgQnJ",
        "outputId": "299c8999-b3d6-4a92-eeb9-41b0e1d9f8b0"
      },
      "source": [
        "history2 = model2.fit(\n",
        "    train_input, train_labels,\n",
        "    validation_split=0.1,\n",
        "    epochs=5,\n",
        "    batch_size=20\n",
        ")"
      ],
      "execution_count": 13,
      "outputs": [
        {
          "output_type": "stream",
          "text": [
            "Epoch 1/5\n",
            "15/15 [==============================] - 516s 34s/step - loss: 0.1764 - accuracy: 0.9339 - val_loss: 0.7447 - val_accuracy: 0.7840\n",
            "Epoch 2/5\n",
            "15/15 [==============================] - 516s 34s/step - loss: 0.1107 - accuracy: 0.9608 - val_loss: 0.8131 - val_accuracy: 0.7903\n",
            "Epoch 3/5\n",
            "15/15 [==============================] - 515s 34s/step - loss: 0.0507 - accuracy: 0.9809 - val_loss: 0.9811 - val_accuracy: 0.7643\n",
            "Epoch 4/5\n",
            "15/15 [==============================] - 515s 34s/step - loss: 0.0348 - accuracy: 0.9915 - val_loss: 0.6483 - val_accuracy: 0.7833\n",
            "Epoch 5/5\n",
            "15/15 [==============================] - 517s 34s/step - loss: 0.0249 - accuracy: 0.9966 - val_loss: 0.6520 - val_accuracy: 0.7831\n"
          ],
          "name": "stdout"
        }
      ]
    },
    {
      "cell_type": "code",
      "metadata": {
        "id": "oOYMSJqypdYh"
      },
      "source": [
        "model1.save('bert_model_LSTM.h5')\n",
        "model2.save('bert_model_GRU.h5')"
      ],
      "execution_count": 14,
      "outputs": []
    },
    {
      "cell_type": "code",
      "metadata": {
        "id": "velAhb2dpdYh",
        "colab": {
          "base_uri": "https://localhost:8080/"
        },
        "outputId": "5b346a41-8eb6-44c2-d15e-985734971191"
      },
      "source": [
        "test_pred = model1.predict(test_input)\n",
        "test_pred = test_pred.round().astype(int)\n",
        "print(test_pred)\n",
        "\n",
        "test_pred = model2.predict(test_input)\n",
        "test_pred = test_pred.round().astype(int)\n",
        "print(test_pred)"
      ],
      "execution_count": 15,
      "outputs": [
        {
          "output_type": "stream",
          "text": [
            "[[[1]\n",
            "  [1]\n",
            "  [1]\n",
            "  ...\n",
            "  [1]\n",
            "  [1]\n",
            "  [1]]\n",
            "\n",
            " [[1]\n",
            "  [1]\n",
            "  [1]\n",
            "  ...\n",
            "  [1]\n",
            "  [1]\n",
            "  [1]]\n",
            "\n",
            " [[1]\n",
            "  [1]\n",
            "  [1]\n",
            "  ...\n",
            "  [1]\n",
            "  [1]\n",
            "  [1]]\n",
            "\n",
            " ...\n",
            "\n",
            " [[1]\n",
            "  [1]\n",
            "  [1]\n",
            "  ...\n",
            "  [1]\n",
            "  [1]\n",
            "  [1]]\n",
            "\n",
            " [[1]\n",
            "  [1]\n",
            "  [1]\n",
            "  ...\n",
            "  [1]\n",
            "  [1]\n",
            "  [1]]\n",
            "\n",
            " [[0]\n",
            "  [0]\n",
            "  [0]\n",
            "  ...\n",
            "  [0]\n",
            "  [0]\n",
            "  [0]]]\n",
            "[[[1]\n",
            "  [1]\n",
            "  [1]\n",
            "  ...\n",
            "  [1]\n",
            "  [1]\n",
            "  [1]]\n",
            "\n",
            " [[1]\n",
            "  [1]\n",
            "  [1]\n",
            "  ...\n",
            "  [1]\n",
            "  [1]\n",
            "  [1]]\n",
            "\n",
            " [[1]\n",
            "  [1]\n",
            "  [1]\n",
            "  ...\n",
            "  [1]\n",
            "  [1]\n",
            "  [1]]\n",
            "\n",
            " ...\n",
            "\n",
            " [[1]\n",
            "  [1]\n",
            "  [1]\n",
            "  ...\n",
            "  [1]\n",
            "  [1]\n",
            "  [1]]\n",
            "\n",
            " [[1]\n",
            "  [1]\n",
            "  [1]\n",
            "  ...\n",
            "  [1]\n",
            "  [1]\n",
            "  [1]]\n",
            "\n",
            " [[0]\n",
            "  [0]\n",
            "  [0]\n",
            "  ...\n",
            "  [0]\n",
            "  [0]\n",
            "  [0]]]\n"
          ],
          "name": "stdout"
        }
      ]
    },
    {
      "cell_type": "code",
      "metadata": {
        "colab": {
          "base_uri": "https://localhost:8080/",
          "height": 629
        },
        "id": "Fd-S2Bv84bbx",
        "outputId": "c2d3ee55-ef97-446b-9358-5cfd07e6f19b"
      },
      "source": [
        "history_dict=history1.history\n",
        "print(history_dict)\n",
        "\n",
        "#Training and validation\n",
        "import matplotlib.pyplot as plt\n",
        "loss_values   = history_dict['loss']\n",
        "acc_values   = history_dict['accuracy']\n",
        "\n",
        "epochs = range(1, len(acc_values) + 1)\n",
        "plt.plot(epochs, loss_values, 'b', 'Training loss')\n",
        "plt.title('Losses')\n",
        "plt.xlabel('Epochs')\n",
        "plt.ylabel('Loss')\n",
        "plt.legend()\n",
        "plt.show()\n",
        "\n",
        "plt.clf()\n",
        "\n",
        "plt.plot(epochs, acc_values, 'b', label='Training accuracy')\n",
        "plt.title('Accuracy')\n",
        "plt.xlabel('Epochs')\n",
        "plt.ylabel('Accuracy')\n",
        "plt.legend()\n",
        "plt.show()"
      ],
      "execution_count": 16,
      "outputs": [
        {
          "output_type": "stream",
          "text": [
            "WARNING:matplotlib.legend:No handles with labels found to put in legend.\n"
          ],
          "name": "stderr"
        },
        {
          "output_type": "stream",
          "text": [
            "{'loss': [0.5939096808433533, 0.4174410104751587, 0.24855747818946838, 0.16634654998779297, 0.08865689486265182], 'accuracy': [0.6825713515281677, 0.8408137559890747, 0.9291946291923523, 0.9591023325920105, 0.9772231578826904], 'val_loss': [0.6419996023178101, 0.4559127986431122, 0.45798665285110474, 0.4540223479270935, 0.5024527907371521], 'val_accuracy': [0.6003676056861877, 0.763235330581665, 0.7696691155433655, 0.7764706015586853, 0.7705882787704468]}\n"
          ],
          "name": "stdout"
        },
        {
          "output_type": "display_data",
          "data": {
            "image/png": "[encoded data removed]",
            "text/plain": [
              "<Figure size 432x288 with 1 Axes>"
            ]
          },
          "metadata": {
            "tags": [],
            "needs_background": "light"
          }
        },
        {
          "output_type": "display_data",
          "data": {
            "image/png": "[encoded data removed]",
            "text/plain": [
              "<Figure size 432x288 with 1 Axes>"
            ]
          },
          "metadata": {
            "tags": [],
            "needs_background": "light"
          }
        }
      ]
    },
    {
      "cell_type": "code",
      "metadata": {
        "colab": {
          "base_uri": "https://localhost:8080/",
          "height": 629
        },
        "id": "U8Wd4uyJgn9u",
        "outputId": "0202efc8-1d44-4132-c4dd-6b2517249e52"
      },
      "source": [
        "history_dict=history2.history\n",
        "print(history_dict)\n",
        "\n",
        "#Training and validation\n",
        "import matplotlib.pyplot as plt\n",
        "loss_values   = history_dict['loss']\n",
        "acc_values   = history_dict['accuracy']\n",
        "\n",
        "epochs = range(1, len(acc_values) + 1)\n",
        "plt.plot(epochs, loss_values, 'b', 'Training loss')\n",
        "plt.title('Losses')\n",
        "plt.xlabel('Epochs')\n",
        "plt.ylabel('Loss')\n",
        "plt.legend()\n",
        "plt.show()\n",
        "\n",
        "plt.clf()\n",
        "\n",
        "plt.plot(epochs, acc_values, 'b', label='Training accuracy')\n",
        "plt.title('Accuracy')\n",
        "plt.xlabel('Epochs')\n",
        "plt.ylabel('Accuracy')\n",
        "plt.legend()\n",
        "plt.show()"
      ],
      "execution_count": 17,
      "outputs": [
        {
          "output_type": "stream",
          "text": [
            "WARNING:matplotlib.legend:No handles with labels found to put in legend.\n"
          ],
          "name": "stderr"
        },
        {
          "output_type": "stream",
          "text": [
            "{'loss': [0.17635124921798706, 0.11070657521486282, 0.05068656802177429, 0.0348232127726078, 0.0248978640884161], 'accuracy': [0.9338715672492981, 0.9607592225074768, 0.9808515310287476, 0.9914848804473877, 0.9966443181037903], 'val_loss': [0.7446960806846619, 0.8131088018417358, 0.9810614585876465, 0.6482692360877991, 0.6519763469696045], 'val_accuracy': [0.7840073704719543, 0.7902573347091675, 0.7643381953239441, 0.7832720875740051, 0.783088207244873]}\n"
          ],
          "name": "stdout"
        },
        {
          "output_type": "display_data",
          "data": {
            "image/png": "[encoded data removed]",
            "text/plain": [
              "<Figure size 432x288 with 1 Axes>"
            ]
          },
          "metadata": {
            "tags": [],
            "needs_background": "light"
          }
        },
        {
          "output_type": "display_data",
          "data": {
            "image/png": "[encoded data removed]",
            "text/plain": [
              "<Figure size 432x288 with 1 Axes>"
            ]
          },
          "metadata": {
            "tags": [],
            "needs_background": "light"
          }
        }
      ]
    }
  ]
}